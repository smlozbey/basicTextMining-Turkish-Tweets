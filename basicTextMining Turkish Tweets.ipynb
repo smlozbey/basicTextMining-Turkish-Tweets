{
 "cells": [
  {
   "cell_type": "code",
   "execution_count": 1,
   "metadata": {
    "execution": {
     "iopub.execute_input": "2020-10-06T21:19:31.986613Z",
     "iopub.status.busy": "2020-10-06T21:19:31.985943Z",
     "iopub.status.idle": "2020-10-06T21:19:41.514922Z",
     "shell.execute_reply": "2020-10-06T21:19:41.515686Z"
    },
    "papermill": {
     "duration": 9.569887,
     "end_time": "2020-10-06T21:19:41.515898",
     "exception": false,
     "start_time": "2020-10-06T21:19:31.946011",
     "status": "completed"
    },
    "tags": []
   },
   "outputs": [],
   "source": [
    "import re\n",
    "import matplotlib.pyplot as plt\n",
    "import string\n",
    "#111from nltk.corpus import stopwords\n",
    "import nltk\n",
    "from nltk.tokenize.treebank import TreebankWordDetokenizer\n",
    "from gensim.utils import simple_preprocess\n",
    "import gensim\n",
    "from sklearn.model_selection import train_test_split\n",
    "import tensorflow as tf\n",
    "import keras\n",
    "import numpy as np\n",
    "import pandas as pd"
   ]
  },
  {
   "cell_type": "code",
   "execution_count": 2,
   "metadata": {
    "_cell_guid": "79c7e3d0-c299-4dcb-8224-4455121ee9b0",
    "_uuid": "d629ff2d2480ee46fbb7e2d37f6b5fab8052498a",
    "execution": {
     "iopub.execute_input": "2020-10-06T21:19:41.667156Z",
     "iopub.status.busy": "2020-10-06T21:19:41.666425Z",
     "iopub.status.idle": "2020-10-06T21:19:41.753917Z",
     "shell.execute_reply": "2020-10-06T21:19:41.752384Z"
    },
    "papermill": {
     "duration": 0.132806,
     "end_time": "2020-10-06T21:19:41.754037",
     "exception": false,
     "start_time": "2020-10-06T21:19:41.621231",
     "status": "completed"
    },
    "tags": []
   },
   "outputs": [],
   "source": [
    "corpus_data = pd.read_csv(\"C:/Users/canimaginerc/Desktop/TURTED.csv\", delimiter=\"\\t\")"
   ]
  },
  {
   "cell_type": "code",
   "execution_count": 3,
   "metadata": {
    "execution": {
     "iopub.execute_input": "2020-10-06T21:19:41.898583Z",
     "iopub.status.busy": "2020-10-06T21:19:41.897942Z",
     "iopub.status.idle": "2020-10-06T21:19:41.908219Z",
     "shell.execute_reply": "2020-10-06T21:19:41.908804Z"
    },
    "papermill": {
     "duration": 0.05902,
     "end_time": "2020-10-06T21:19:41.908931",
     "exception": false,
     "start_time": "2020-10-06T21:19:41.849911",
     "status": "completed"
    },
    "tags": []
   },
   "outputs": [
    {
     "data": {
      "text/html": [
       "<div>\n",
       "<style scoped>\n",
       "    .dataframe tbody tr th:only-of-type {\n",
       "        vertical-align: middle;\n",
       "    }\n",
       "\n",
       "    .dataframe tbody tr th {\n",
       "        vertical-align: top;\n",
       "    }\n",
       "\n",
       "    .dataframe thead th {\n",
       "        text-align: right;\n",
       "    }\n",
       "</style>\n",
       "<table border=\"1\" class=\"dataframe\">\n",
       "  <thead>\n",
       "    <tr style=\"text-align: right;\">\n",
       "      <th></th>\n",
       "      <th>id</th>\n",
       "      <th>tw_text</th>\n",
       "      <th>emotion</th>\n",
       "    </tr>\n",
       "  </thead>\n",
       "  <tbody>\n",
       "    <tr>\n",
       "      <th>0</th>\n",
       "      <td>1</td>\n",
       "      <td>Bu akşam eys show gece modunda  Papatyam var ç...</td>\n",
       "      <td>korku</td>\n",
       "    </tr>\n",
       "    <tr>\n",
       "      <th>1</th>\n",
       "      <td>2</td>\n",
       "      <td>Diyarbekir Surları Mardinkapı'nın dıştan yakın...</td>\n",
       "      <td>korku</td>\n",
       "    </tr>\n",
       "    <tr>\n",
       "      <th>2</th>\n",
       "      <td>3</td>\n",
       "      <td>- Bu akşam... Deep Purple Santana The Beatles ...</td>\n",
       "      <td>korku</td>\n",
       "    </tr>\n",
       "    <tr>\n",
       "      <th>3</th>\n",
       "      <td>4</td>\n",
       "      <td>@ailenizdenefruz Bakalım akşam kim kuscak</td>\n",
       "      <td>korku</td>\n",
       "    </tr>\n",
       "    <tr>\n",
       "      <th>4</th>\n",
       "      <td>5</td>\n",
       "      <td>Şuan Endonezyalı, Taylandlı ve Filipinli Blink...</td>\n",
       "      <td>korku</td>\n",
       "    </tr>\n",
       "    <tr>\n",
       "      <th>5</th>\n",
       "      <td>6</td>\n",
       "      <td>Son duyuru: Bu akşam saat 20:00'da Pub Station...</td>\n",
       "      <td>korku</td>\n",
       "    </tr>\n",
       "    <tr>\n",
       "      <th>6</th>\n",
       "      <td>7</td>\n",
       "      <td>@AltokZkan Akşam Beşiktaş nakit alınır</td>\n",
       "      <td>korku</td>\n",
       "    </tr>\n",
       "    <tr>\n",
       "      <th>7</th>\n",
       "      <td>8</td>\n",
       "      <td>@Fox2016Tv Fatih Portakal kardeşim akşam haber...</td>\n",
       "      <td>korku</td>\n",
       "    </tr>\n",
       "    <tr>\n",
       "      <th>8</th>\n",
       "      <td>9</td>\n",
       "      <td>@dygggl Kesin eksik birseyler var yolda aklımı...</td>\n",
       "      <td>korku</td>\n",
       "    </tr>\n",
       "    <tr>\n",
       "      <th>9</th>\n",
       "      <td>10</td>\n",
       "      <td>Bir akşam mahalleden arkadaşımın eğlencesi var...</td>\n",
       "      <td>korku</td>\n",
       "    </tr>\n",
       "    <tr>\n",
       "      <th>10</th>\n",
       "      <td>11</td>\n",
       "      <td>2-0 koyuyoruz akşam</td>\n",
       "      <td>korku</td>\n",
       "    </tr>\n",
       "    <tr>\n",
       "      <th>11</th>\n",
       "      <td>12</td>\n",
       "      <td>@miranaslnby ne demek akşam görürüz 😳😂</td>\n",
       "      <td>korku</td>\n",
       "    </tr>\n",
       "    <tr>\n",
       "      <th>12</th>\n",
       "      <td>13</td>\n",
       "      <td>Huzur içinde kafa dinlemek ya da bir haftasonu...</td>\n",
       "      <td>korku</td>\n",
       "    </tr>\n",
       "    <tr>\n",
       "      <th>13</th>\n",
       "      <td>14</td>\n",
       "      <td>“6. Kıbrıs Avrupa Filmleri Festivali” Galası D...</td>\n",
       "      <td>korku</td>\n",
       "    </tr>\n",
       "    <tr>\n",
       "      <th>14</th>\n",
       "      <td>15</td>\n",
       "      <td>@MaymysA @Aksam @enesozdemirnet Yolun açık ols...</td>\n",
       "      <td>korku</td>\n",
       "    </tr>\n",
       "  </tbody>\n",
       "</table>\n",
       "</div>"
      ],
      "text/plain": [
       "    id                                            tw_text emotion\n",
       "0    1  Bu akşam eys show gece modunda  Papatyam var ç...   korku\n",
       "1    2  Diyarbekir Surları Mardinkapı'nın dıştan yakın...   korku\n",
       "2    3  - Bu akşam... Deep Purple Santana The Beatles ...   korku\n",
       "3    4          @ailenizdenefruz Bakalım akşam kim kuscak   korku\n",
       "4    5  Şuan Endonezyalı, Taylandlı ve Filipinli Blink...   korku\n",
       "5    6  Son duyuru: Bu akşam saat 20:00'da Pub Station...   korku\n",
       "6    7             @AltokZkan Akşam Beşiktaş nakit alınır   korku\n",
       "7    8  @Fox2016Tv Fatih Portakal kardeşim akşam haber...   korku\n",
       "8    9  @dygggl Kesin eksik birseyler var yolda aklımı...   korku\n",
       "9   10  Bir akşam mahalleden arkadaşımın eğlencesi var...   korku\n",
       "10  11                                2-0 koyuyoruz akşam   korku\n",
       "11  12             @miranaslnby ne demek akşam görürüz 😳😂   korku\n",
       "12  13  Huzur içinde kafa dinlemek ya da bir haftasonu...   korku\n",
       "13  14  “6. Kıbrıs Avrupa Filmleri Festivali” Galası D...   korku\n",
       "14  15  @MaymysA @Aksam @enesozdemirnet Yolun açık ols...   korku"
      ]
     },
     "execution_count": 3,
     "metadata": {},
     "output_type": "execute_result"
    }
   ],
   "source": [
    "#Pulled data from CSV\n",
    "corpus_data.head(15)"
   ]
  },
  {
   "cell_type": "code",
   "execution_count": 4,
   "metadata": {
    "execution": {
     "iopub.execute_input": "2020-10-06T21:19:41.980569Z",
     "iopub.status.busy": "2020-10-06T21:19:41.979730Z",
     "iopub.status.idle": "2020-10-06T21:19:41.983566Z",
     "shell.execute_reply": "2020-10-06T21:19:41.983073Z"
    },
    "papermill": {
     "duration": 0.041264,
     "end_time": "2020-10-06T21:19:41.983666",
     "exception": false,
     "start_time": "2020-10-06T21:19:41.942402",
     "status": "completed"
    },
    "tags": []
   },
   "outputs": [
    {
     "data": {
      "text/plain": [
       "194240"
      ]
     },
     "execution_count": 4,
     "metadata": {},
     "output_type": "execute_result"
    }
   ],
   "source": [
    "#Length of corpus\n",
    "len(corpus_data)"
   ]
  },
  {
   "cell_type": "code",
   "execution_count": 5,
   "metadata": {
    "execution": {
     "iopub.execute_input": "2020-10-06T21:19:42.060070Z",
     "iopub.status.busy": "2020-10-06T21:19:42.059141Z",
     "iopub.status.idle": "2020-10-06T21:19:42.064587Z",
     "shell.execute_reply": "2020-10-06T21:19:42.064115Z"
    },
    "papermill": {
     "duration": 0.047577,
     "end_time": "2020-10-06T21:19:42.064691",
     "exception": false,
     "start_time": "2020-10-06T21:19:42.017114",
     "status": "completed"
    },
    "tags": []
   },
   "outputs": [],
   "source": [
    "#Getting emotions variants, also we will use these at the end of the model while testing manuel\n",
    "emotions = corpus_data['emotion'].unique()"
   ]
  },
  {
   "cell_type": "code",
   "execution_count": 6,
   "metadata": {
    "execution": {
     "iopub.execute_input": "2020-10-06T21:19:42.143106Z",
     "iopub.status.busy": "2020-10-06T21:19:42.142318Z",
     "iopub.status.idle": "2020-10-06T21:19:42.185676Z",
     "shell.execute_reply": "2020-10-06T21:19:42.186310Z"
    },
    "papermill": {
     "duration": 0.088183,
     "end_time": "2020-10-06T21:19:42.186453",
     "exception": false,
     "start_time": "2020-10-06T21:19:42.098270",
     "status": "completed"
    },
    "tags": []
   },
   "outputs": [
    {
     "data": {
      "text/html": [
       "<div>\n",
       "<style scoped>\n",
       "    .dataframe tbody tr th:only-of-type {\n",
       "        vertical-align: middle;\n",
       "    }\n",
       "\n",
       "    .dataframe tbody tr th {\n",
       "        vertical-align: top;\n",
       "    }\n",
       "\n",
       "    .dataframe thead th {\n",
       "        text-align: right;\n",
       "    }\n",
       "</style>\n",
       "<table border=\"1\" class=\"dataframe\">\n",
       "  <thead>\n",
       "    <tr style=\"text-align: right;\">\n",
       "      <th></th>\n",
       "      <th>id</th>\n",
       "      <th>tw_text</th>\n",
       "    </tr>\n",
       "    <tr>\n",
       "      <th>emotion</th>\n",
       "      <th></th>\n",
       "      <th></th>\n",
       "    </tr>\n",
       "  </thead>\n",
       "  <tbody>\n",
       "    <tr>\n",
       "      <th>korku</th>\n",
       "      <td>32875</td>\n",
       "      <td>31719</td>\n",
       "    </tr>\n",
       "    <tr>\n",
       "      <th>mutluluk</th>\n",
       "      <td>27659</td>\n",
       "      <td>26574</td>\n",
       "    </tr>\n",
       "    <tr>\n",
       "      <th>tiksinme</th>\n",
       "      <td>31869</td>\n",
       "      <td>30477</td>\n",
       "    </tr>\n",
       "    <tr>\n",
       "      <th>öfke</th>\n",
       "      <td>44173</td>\n",
       "      <td>42650</td>\n",
       "    </tr>\n",
       "    <tr>\n",
       "      <th>üzüntü</th>\n",
       "      <td>34130</td>\n",
       "      <td>32710</td>\n",
       "    </tr>\n",
       "    <tr>\n",
       "      <th>şaşırma</th>\n",
       "      <td>23534</td>\n",
       "      <td>22580</td>\n",
       "    </tr>\n",
       "  </tbody>\n",
       "</table>\n",
       "</div>"
      ],
      "text/plain": [
       "             id  tw_text\n",
       "emotion                 \n",
       "korku     32875    31719\n",
       "mutluluk  27659    26574\n",
       "tiksinme  31869    30477\n",
       "öfke      44173    42650\n",
       "üzüntü    34130    32710\n",
       "şaşırma   23534    22580"
      ]
     },
     "execution_count": 6,
     "metadata": {},
     "output_type": "execute_result"
    }
   ],
   "source": [
    "#The distribution of data\n",
    "corpus_data.groupby('emotion').nunique()"
   ]
  },
  {
   "cell_type": "code",
   "execution_count": 7,
   "metadata": {
    "execution": {
     "iopub.execute_input": "2020-10-06T21:19:42.334657Z",
     "iopub.status.busy": "2020-10-06T21:19:42.333827Z",
     "iopub.status.idle": "2020-10-06T21:19:42.337209Z",
     "shell.execute_reply": "2020-10-06T21:19:42.337696Z"
    },
    "papermill": {
     "duration": 0.04812,
     "end_time": "2020-10-06T21:19:42.337823",
     "exception": false,
     "start_time": "2020-10-06T21:19:42.289703",
     "status": "completed"
    },
    "tags": []
   },
   "outputs": [
    {
     "data": {
      "text/html": [
       "<div>\n",
       "<style scoped>\n",
       "    .dataframe tbody tr th:only-of-type {\n",
       "        vertical-align: middle;\n",
       "    }\n",
       "\n",
       "    .dataframe tbody tr th {\n",
       "        vertical-align: top;\n",
       "    }\n",
       "\n",
       "    .dataframe thead th {\n",
       "        text-align: right;\n",
       "    }\n",
       "</style>\n",
       "<table border=\"1\" class=\"dataframe\">\n",
       "  <thead>\n",
       "    <tr style=\"text-align: right;\">\n",
       "      <th></th>\n",
       "      <th>tw_text</th>\n",
       "      <th>emotion</th>\n",
       "    </tr>\n",
       "  </thead>\n",
       "  <tbody>\n",
       "    <tr>\n",
       "      <th>0</th>\n",
       "      <td>Bu akşam eys show gece modunda  Papatyam var ç...</td>\n",
       "      <td>korku</td>\n",
       "    </tr>\n",
       "    <tr>\n",
       "      <th>1</th>\n",
       "      <td>Diyarbekir Surları Mardinkapı'nın dıştan yakın...</td>\n",
       "      <td>korku</td>\n",
       "    </tr>\n",
       "    <tr>\n",
       "      <th>2</th>\n",
       "      <td>- Bu akşam... Deep Purple Santana The Beatles ...</td>\n",
       "      <td>korku</td>\n",
       "    </tr>\n",
       "    <tr>\n",
       "      <th>3</th>\n",
       "      <td>@ailenizdenefruz Bakalım akşam kim kuscak</td>\n",
       "      <td>korku</td>\n",
       "    </tr>\n",
       "    <tr>\n",
       "      <th>4</th>\n",
       "      <td>Şuan Endonezyalı, Taylandlı ve Filipinli Blink...</td>\n",
       "      <td>korku</td>\n",
       "    </tr>\n",
       "  </tbody>\n",
       "</table>\n",
       "</div>"
      ],
      "text/plain": [
       "                                             tw_text emotion\n",
       "0  Bu akşam eys show gece modunda  Papatyam var ç...   korku\n",
       "1  Diyarbekir Surları Mardinkapı'nın dıştan yakın...   korku\n",
       "2  - Bu akşam... Deep Purple Santana The Beatles ...   korku\n",
       "3          @ailenizdenefruz Bakalım akşam kim kuscak   korku\n",
       "4  Şuan Endonezyalı, Taylandlı ve Filipinli Blink...   korku"
      ]
     },
     "execution_count": 7,
     "metadata": {},
     "output_type": "execute_result"
    }
   ],
   "source": [
    "#Our corpus without 'id' column, dataFrame already doing that\n",
    "corpus_data = corpus_data[['tw_text','emotion']]\n",
    "corpus_data.head()"
   ]
  },
  {
   "cell_type": "code",
   "execution_count": 8,
   "metadata": {
    "execution": {
     "iopub.execute_input": "2020-10-06T21:19:42.415166Z",
     "iopub.status.busy": "2020-10-06T21:19:42.414365Z",
     "iopub.status.idle": "2020-10-06T21:19:42.418112Z",
     "shell.execute_reply": "2020-10-06T21:19:42.417659Z"
    },
    "papermill": {
     "duration": 0.0451,
     "end_time": "2020-10-06T21:19:42.418205",
     "exception": false,
     "start_time": "2020-10-06T21:19:42.373105",
     "status": "completed"
    },
    "tags": []
   },
   "outputs": [
    {
     "data": {
      "text/plain": [
       "0"
      ]
     },
     "execution_count": 8,
     "metadata": {},
     "output_type": "execute_result"
    }
   ],
   "source": [
    "#Check for null instances\n",
    "corpus_data[\"tw_text\"].isnull().sum()"
   ]
  },
  {
   "cell_type": "code",
   "execution_count": 10,
   "metadata": {
    "execution": {
     "iopub.execute_input": "2020-10-06T21:19:42.651469Z",
     "iopub.status.busy": "2020-10-06T21:19:42.650518Z",
     "iopub.status.idle": "2020-10-06T21:19:42.653091Z",
     "shell.execute_reply": "2020-10-06T21:19:42.653513Z"
    },
    "papermill": {
     "duration": 0.044735,
     "end_time": "2020-10-06T21:19:42.653654",
     "exception": false,
     "start_time": "2020-10-06T21:19:42.608919",
     "status": "completed"
    },
    "tags": []
   },
   "outputs": [],
   "source": [
    "def simplyfyData(data):\n",
    "    url_pattern = re.compile(r'https?://\\S+|www\\.\\S+')\n",
    "    data = url_pattern.sub(r'', data)\n",
    "    data = re.sub('\\S*@\\S*\\s?', '', data)\n",
    "    data = re.sub('\\s+', ' ', data)\n",
    "    data = re.sub(\"\\'\", \"\", data)  \n",
    "    return data"
   ]
  },
  {
   "cell_type": "code",
   "execution_count": 11,
   "metadata": {
    "execution": {
     "iopub.execute_input": "2020-10-06T21:19:42.742866Z",
     "iopub.status.busy": "2020-10-06T21:19:42.737799Z",
     "iopub.status.idle": "2020-10-06T21:19:43.099846Z",
     "shell.execute_reply": "2020-10-06T21:19:43.100317Z"
    },
    "papermill": {
     "duration": 0.411166,
     "end_time": "2020-10-06T21:19:43.100446",
     "exception": false,
     "start_time": "2020-10-06T21:19:42.689280",
     "status": "completed"
    },
    "tags": []
   },
   "outputs": [
    {
     "data": {
      "text/plain": [
       "['Bu akşam eys show gece modunda Papatyam var çooook eğlenceli kaçmaz saat sayıyorum 8 saat kaldıııııı konuklar mükemmel bu program kaçmaz kaçıranda PİŞMAN OLUR NEEET #iremderici #papatyam #eysshow #eysgecemodu #kaçırmayın #5nisan #çokeğlenicez ❤❤❤❤ ',\n",
       " 'Diyarbekir Surları Mardinkapının dıştan yakın çekim görünümü, O zamanlar sabah kapıların açılıp akşam kapandığı için mutlaka kapının önünde bir asker veya nöbetçi dururdu. Diyarbekir 1904 ',\n",
       " '- Bu akşam... Deep Purple Santana The Beatles Jimi Hendrix Cream Jefferson Airplane Led Zeppelin Iron Butterfly Şarkıları ve ‘in sunumuyla 17:05’te ‘te canlı yayındayız... ',\n",
       " 'Bakalım akşam kim kuscak',\n",
       " 'Şuan Endonezyalı, Taylandlı ve Filipinli Blinkler akşam yemeklerini yedikten sonra birden abandılar galiba ki beğenileri bile sildirdiler helal olsun aq']"
      ]
     },
     "execution_count": 11,
     "metadata": {},
     "output_type": "execute_result"
    }
   ],
   "source": [
    "container = []\n",
    "data_to_list = corpus_data['tw_text'].values.tolist()\n",
    "for i in range(len(data_to_list)):\n",
    "    container.append(simplyfyData(data_to_list[i]))\n",
    "list(container[:5])"
   ]
  },
  {
   "cell_type": "code",
   "execution_count": 12,
   "metadata": {
    "execution": {
     "iopub.execute_input": "2020-10-06T21:19:43.217126Z",
     "iopub.status.busy": "2020-10-06T21:19:43.201831Z",
     "iopub.status.idle": "2020-10-06T21:19:44.301157Z",
     "shell.execute_reply": "2020-10-06T21:19:44.300459Z"
    },
    "papermill": {
     "duration": 1.161143,
     "end_time": "2020-10-06T21:19:44.301321",
     "exception": false,
     "start_time": "2020-10-06T21:19:43.140178",
     "status": "completed"
    },
    "tags": []
   },
   "outputs": [
    {
     "name": "stdout",
     "output_type": "stream",
     "text": [
      "[['bu', 'aksam', 'eys', 'show', 'gece', 'modunda', 'papatyam', 'var', 'cooook', 'eglenceli', 'kacmaz', 'saat', 'sayıyorum', 'saat', 'kaldıııııı', 'konuklar', 'mukemmel', 'bu', 'program', 'kacmaz', 'kacıranda', 'pisman', 'olur', 'neeet', 'iremderici', 'papatyam', 'eysshow', 'eysgecemodu', 'kacırmayın', 'nisan', 'cokeglenicez'], ['diyarbekir', 'surları', 'mardinkapının', 'dıstan', 'yakın', 'cekim', 'gorunumu', 'zamanlar', 'sabah', 'kapıların', 'acılıp', 'aksam', 'kapandıgı', 'icin', 'mutlaka', 'kapının', 'onunde', 'bir', 'asker', 'veya', 'nobetci', 'dururdu', 'diyarbekir'], ['bu', 'aksam', 'deep', 'purple', 'santana', 'the', 'beatles', 'jimi', 'hendrix', 'cream', 'jefferson', 'airplane', 'led', 'zeppelin', 'iron', 'butterfly', 'sarkıları', 've', 'in', 'sunumuyla', 'te', 'te', 'canlı', 'yayındayız'], ['bakalım', 'aksam', 'kim', 'kuscak'], ['suan', 'endonezyalı', 'taylandlı', 've', 'filipinli', 'blinkler', 'aksam', 'yemeklerini', 'yedikten', 'sonra', 'birden', 'abandılar', 'galiba', 'ki', 'begenileri', 'bile', 'sildirdiler', 'helal', 'olsun', 'aq'], ['son', 'duyuru', 'bu', 'aksam', 'saat', 'da', 'pub', 'station', 'kadıkoydeyiz'], ['aksam', 'besiktas', 'nakit', 'alınır'], ['fatih', 'portakal', 'kardesim', 'aksam', 'haberlerinde', 'topal', 'ordek', 'konusunda', 'size', 'bir', 'onerim', 'var', 'cumhurbaskanı', 'yuzde', 'yirmi', 'bes', 'ile', 'istanbul', 'belediye', 'baskanı', 'oldugunda', 'meclis', 'uyesi', 'sayısı', 'kactı', 'topal', 'ordek', 'olmadı', 'mı'], ['kesin', 'eksik', 'birseyler', 'var', 'yolda', 'aklımıza', 'gelir', 'aksam'], ['bir', 'aksam', 'mahalleden', 'arkadasımın', 'eglencesi', 'vardı', 'ona', 'gitmistik', 'valideyle', 'sonra', 'eve', 'dondurma', 'alıp', 'geldigimde', 'babamı', 'evde', 'gordum', 'aynı', 'kosesine', 'uzanmıs', 'yatıyordu', 'televizyonda', 'da', 'richie', 'rich', 'in', 'filmi', 'vardı', 'yanına', 'uzanıp', 'onu', 'izlemistim', 'bu', 'ufak', 'anı', 'yıldır', 'mutlu', 'ediyor', 'beni']]\n"
     ]
    }
   ],
   "source": [
    "def sent_to_words(sentences):\n",
    "    for sentence in sentences:\n",
    "        yield(gensim.utils.simple_preprocess(str(sentence), deacc=True))\n",
    "        \n",
    "data_words = list(sent_to_words(container))\n",
    "\n",
    "print(data_words[:10])"
   ]
  },
  {
   "cell_type": "code",
   "execution_count": 13,
   "metadata": {
    "execution": {
     "iopub.execute_input": "2020-10-06T21:19:44.381205Z",
     "iopub.status.busy": "2020-10-06T21:19:44.380312Z",
     "iopub.status.idle": "2020-10-06T21:19:44.384281Z",
     "shell.execute_reply": "2020-10-06T21:19:44.383753Z"
    },
    "papermill": {
     "duration": 0.045481,
     "end_time": "2020-10-06T21:19:44.384376",
     "exception": false,
     "start_time": "2020-10-06T21:19:44.338895",
     "status": "completed"
    },
    "tags": []
   },
   "outputs": [
    {
     "data": {
      "text/plain": [
       "194240"
      ]
     },
     "execution_count": 13,
     "metadata": {},
     "output_type": "execute_result"
    }
   ],
   "source": [
    "len(data_words)"
   ]
  },
  {
   "cell_type": "code",
   "execution_count": 14,
   "metadata": {
    "execution": {
     "iopub.execute_input": "2020-10-06T21:19:44.465126Z",
     "iopub.status.busy": "2020-10-06T21:19:44.464351Z",
     "iopub.status.idle": "2020-10-06T21:19:44.467376Z",
     "shell.execute_reply": "2020-10-06T21:19:44.466918Z"
    },
    "papermill": {
     "duration": 0.045096,
     "end_time": "2020-10-06T21:19:44.467470",
     "exception": false,
     "start_time": "2020-10-06T21:19:44.422374",
     "status": "completed"
    },
    "tags": []
   },
   "outputs": [],
   "source": [
    "def detokenize(text):\n",
    "    return TreebankWordDetokenizer().detokenize(text)"
   ]
  },
  {
   "cell_type": "code",
   "execution_count": 15,
   "metadata": {
    "execution": {
     "iopub.execute_input": "2020-10-06T21:19:44.561022Z",
     "iopub.status.busy": "2020-10-06T21:19:44.550825Z",
     "iopub.status.idle": "2020-10-06T21:19:47.831584Z",
     "shell.execute_reply": "2020-10-06T21:19:47.832620Z"
    },
    "papermill": {
     "duration": 3.326682,
     "end_time": "2020-10-06T21:19:47.832800",
     "exception": false,
     "start_time": "2020-10-06T21:19:44.506118",
     "status": "completed"
    },
    "tags": []
   },
   "outputs": [
    {
     "name": "stdout",
     "output_type": "stream",
     "text": [
      "['bu aksam eys show gece modunda papatyam var cooook eglenceli kacmaz saat sayıyorum saat kaldıııııı konuklar mukemmel bu program kacmaz kacıranda pisman olur neeet iremderici papatyam eysshow eysgecemodu kacırmayın nisan cokeglenicez', 'diyarbekir surları mardinkapının dıstan yakın cekim gorunumu zamanlar sabah kapıların acılıp aksam kapandıgı icin mutlaka kapının onunde bir asker veya nobetci dururdu diyarbekir', 'bu aksam deep purple santana the beatles jimi hendrix cream jefferson airplane led zeppelin iron butterfly sarkıları ve in sunumuyla te te canlı yayındayız', 'bakalım aksam kim kuscak', 'suan endonezyalı taylandlı ve filipinli blinkler aksam yemeklerini yedikten sonra birden abandılar galiba ki begenileri bile sildirdiler helal olsun aq']\n"
     ]
    }
   ],
   "source": [
    "data = []\n",
    "for i in range(len(data_words)):\n",
    "    data.append(detokenize(data_words[i]))\n",
    "print(data[:5])\n",
    "data = np.array(data)"
   ]
  },
  {
   "cell_type": "code",
   "execution_count": 16,
   "metadata": {
    "execution": {
     "iopub.execute_input": "2020-10-06T21:19:48.122784Z",
     "iopub.status.busy": "2020-10-06T21:19:48.121518Z",
     "iopub.status.idle": "2020-10-06T21:19:48.125042Z",
     "shell.execute_reply": "2020-10-06T21:19:48.125481Z"
    },
    "papermill": {
     "duration": 0.074223,
     "end_time": "2020-10-06T21:19:48.125627",
     "exception": false,
     "start_time": "2020-10-06T21:19:48.051404",
     "status": "completed"
    },
    "tags": []
   },
   "outputs": [],
   "source": [
    "labels = np.array(corpus_data['emotion'])\n",
    "emotesToNumber = []\n",
    "for i in range(len(labels)):\n",
    "    if labels[i] == 'korku':\n",
    "        emotesToNumber.append(0)\n",
    "    elif labels[i] == 'mutluluk':\n",
    "        emotesToNumber.append(1)\n",
    "    elif labels[i] == 'tiksinme':\n",
    "        emotesToNumber.append(2)\n",
    "    elif labels[i] == 'öfke':\n",
    "        emotesToNumber.append(3)\n",
    "    elif labels[i] == 'üzüntü':\n",
    "        emotesToNumber.append(4)\n",
    "    elif labels[i] == 'şaşırma':\n",
    "        emotesToNumber.append(5)\n",
    "emotesToNumber = np.array(emotesToNumber)\n",
    "labels = tf.keras.utils.to_categorical(emotesToNumber, 6, dtype=\"float32\")\n",
    "del emotesToNumber"
   ]
  },
  {
   "cell_type": "code",
   "execution_count": 17,
   "metadata": {
    "execution": {
     "iopub.execute_input": "2020-10-06T21:19:48.206863Z",
     "iopub.status.busy": "2020-10-06T21:19:48.206068Z",
     "iopub.status.idle": "2020-10-06T21:19:48.209920Z",
     "shell.execute_reply": "2020-10-06T21:19:48.209425Z"
    },
    "papermill": {
     "duration": 0.046647,
     "end_time": "2020-10-06T21:19:48.210021",
     "exception": false,
     "start_time": "2020-10-06T21:19:48.163374",
     "status": "completed"
    },
    "tags": []
   },
   "outputs": [
    {
     "data": {
      "text/plain": [
       "194240"
      ]
     },
     "execution_count": 17,
     "metadata": {},
     "output_type": "execute_result"
    }
   ],
   "source": [
    "len(labels)"
   ]
  },
  {
   "cell_type": "code",
   "execution_count": 18,
   "metadata": {
    "execution": {
     "iopub.execute_input": "2020-10-06T21:19:48.373707Z",
     "iopub.status.busy": "2020-10-06T21:19:48.372469Z",
     "iopub.status.idle": "2020-10-06T21:19:49.386819Z",
     "shell.execute_reply": "2020-10-06T21:19:49.387562Z"
    },
    "papermill": {
     "duration": 1.062302,
     "end_time": "2020-10-06T21:19:49.387739",
     "exception": false,
     "start_time": "2020-10-06T21:19:48.325437",
     "status": "completed"
    },
    "tags": []
   },
   "outputs": [
    {
     "name": "stdout",
     "output_type": "stream",
     "text": [
      "[[   0    0    0 ... 1691   58  212]\n",
      " [   0    0    0 ...    1 1687  297]\n",
      " [   0    0    0 ...  783  783  865]\n",
      " ...\n",
      " [   0    0    0 ... 1837   88  361]\n",
      " [   0    0    0 ... 3297 3405  361]\n",
      " [   0    0    0 ...  183  361   23]]\n"
     ]
    }
   ],
   "source": [
    "from keras.models import Sequential\n",
    "from keras import layers\n",
    "from keras.optimizers import RMSprop\n",
    "from keras.preprocessing.text import Tokenizer\n",
    "from keras.preprocessing.sequence import pad_sequences\n",
    "from keras.callbacks import ModelCheckpoint\n",
    "max_words = 5000\n",
    "max_len = 200\n",
    "\n",
    "tokenizer = Tokenizer(num_words=max_words)\n",
    "tokenizer.fit_on_texts(data)\n",
    "sequences = tokenizer.texts_to_sequences(data)\n",
    "instances = pad_sequences(sequences, maxlen=max_len)\n",
    "print(instances)"
   ]
  },
  {
   "cell_type": "code",
   "execution_count": 19,
   "metadata": {
    "execution": {
     "iopub.execute_input": "2020-10-06T21:19:49.478734Z",
     "iopub.status.busy": "2020-10-06T21:19:49.477823Z",
     "iopub.status.idle": "2020-10-06T21:19:49.482217Z",
     "shell.execute_reply": "2020-10-06T21:19:49.483329Z"
    },
    "papermill": {
     "duration": 0.054099,
     "end_time": "2020-10-06T21:19:49.483550",
     "exception": false,
     "start_time": "2020-10-06T21:19:49.429451",
     "status": "completed"
    },
    "tags": []
   },
   "outputs": [
    {
     "name": "stdout",
     "output_type": "stream",
     "text": [
      "[[1. 0. 0. 0. 0. 0.]\n",
      " [1. 0. 0. 0. 0. 0.]\n",
      " [1. 0. 0. 0. 0. 0.]\n",
      " ...\n",
      " [0. 0. 0. 0. 0. 1.]\n",
      " [0. 0. 0. 0. 0. 1.]\n",
      " [0. 0. 0. 0. 0. 1.]]\n"
     ]
    }
   ],
   "source": [
    "print(labels)"
   ]
  },
  {
   "cell_type": "code",
   "execution_count": 20,
   "metadata": {
    "execution": {
     "iopub.execute_input": "2020-10-06T21:19:49.585814Z",
     "iopub.status.busy": "2020-10-06T21:19:49.584576Z",
     "iopub.status.idle": "2020-10-06T21:19:49.600360Z",
     "shell.execute_reply": "2020-10-06T21:19:49.601002Z"
    },
    "papermill": {
     "duration": 0.069178,
     "end_time": "2020-10-06T21:19:49.601136",
     "exception": false,
     "start_time": "2020-10-06T21:19:49.531958",
     "status": "completed"
    },
    "tags": []
   },
   "outputs": [
    {
     "name": "stdout",
     "output_type": "stream",
     "text": [
      "145680 48560 145680 48560\n"
     ]
    }
   ],
   "source": [
    "X_train, X_test, y_train, y_test = train_test_split(instances,labels, random_state=0)\n",
    "print (len(X_train),len(X_test),len(y_train),len(y_test))"
   ]
  },
  {
   "cell_type": "code",
   "execution_count": 25,
   "metadata": {
    "execution": {
     "iopub.execute_input": "2020-10-06T21:19:50.068632Z",
     "iopub.status.busy": "2020-10-06T21:19:50.067909Z",
     "iopub.status.idle": "2020-10-06T21:30:02.803265Z",
     "shell.execute_reply": "2020-10-06T21:30:02.805203Z"
    },
    "papermill": {
     "duration": 612.793273,
     "end_time": "2020-10-06T21:30:02.806611",
     "exception": false,
     "start_time": "2020-10-06T21:19:50.013338",
     "status": "completed"
    },
    "tags": []
   },
   "outputs": [
    {
     "name": "stdout",
     "output_type": "stream",
     "text": [
      "WARNING:tensorflow:`period` argument is deprecated. Please use `save_freq` to specify the frequency in number of batches seen.\n",
      "Epoch 1/25\n",
      "4553/4553 [==============================] - ETA: 0s - loss: 1.1349 - accuracy: 0.5840\n",
      "Epoch 00001: val_accuracy improved from -inf to 0.72430, saving model to CSE5093_Assigment4_2020900016.hdf5\n",
      "4553/4553 [==============================] - 224s 49ms/step - loss: 1.1349 - accuracy: 0.5840 - val_loss: 0.7892 - val_accuracy: 0.7243\n",
      "Epoch 2/25\n",
      "4553/4553 [==============================] - ETA: 0s - loss: 0.8172 - accuracy: 0.7136\n",
      "Epoch 00002: val_accuracy improved from 0.72430 to 0.73612, saving model to CSE5093_Assigment4_2020900016.hdf5\n",
      "4553/4553 [==============================] - 214s 47ms/step - loss: 0.8172 - accuracy: 0.7136 - val_loss: 0.7370 - val_accuracy: 0.7361\n",
      "Epoch 3/25\n",
      "4552/4553 [============================>.] - ETA: 0s - loss: 0.7724 - accuracy: 0.7237\n",
      "Epoch 00003: val_accuracy improved from 0.73612 to 0.73948, saving model to CSE5093_Assigment4_2020900016.hdf5\n",
      "4553/4553 [==============================] - 220s 48ms/step - loss: 0.7724 - accuracy: 0.7237 - val_loss: 0.7007 - val_accuracy: 0.7395\n",
      "Epoch 4/25\n",
      "4553/4553 [==============================] - ETA: 0s - loss: 0.7504 - accuracy: 0.7270\n",
      "Epoch 00004: val_accuracy did not improve from 0.73948\n",
      "4553/4553 [==============================] - 216s 47ms/step - loss: 0.7504 - accuracy: 0.7270 - val_loss: 0.6909 - val_accuracy: 0.7386\n",
      "Epoch 5/25\n",
      "4553/4553 [==============================] - ETA: 0s - loss: 0.7363 - accuracy: 0.7287\n",
      "Epoch 00005: val_accuracy improved from 0.73948 to 0.74160, saving model to CSE5093_Assigment4_2020900016.hdf5\n",
      "4553/4553 [==============================] - 216s 48ms/step - loss: 0.7363 - accuracy: 0.7287 - val_loss: 0.6726 - val_accuracy: 0.7416\n",
      "Epoch 6/25\n",
      "4552/4553 [============================>.] - ETA: 0s - loss: 0.7248 - accuracy: 0.7310\n",
      "Epoch 00006: val_accuracy improved from 0.74160 to 0.74174, saving model to CSE5093_Assigment4_2020900016.hdf5\n",
      "4553/4553 [==============================] - 218s 48ms/step - loss: 0.7248 - accuracy: 0.7310 - val_loss: 0.6703 - val_accuracy: 0.7417\n",
      "Epoch 7/25\n",
      "4552/4553 [============================>.] - ETA: 0s - loss: 0.7167 - accuracy: 0.7332\n",
      "Epoch 00007: val_accuracy improved from 0.74174 to 0.74180, saving model to CSE5093_Assigment4_2020900016.hdf5\n",
      "4553/4553 [==============================] - 220s 48ms/step - loss: 0.7167 - accuracy: 0.7332 - val_loss: 0.6607 - val_accuracy: 0.7418\n",
      "Epoch 8/25\n",
      "4553/4553 [==============================] - ETA: 0s - loss: 0.7110 - accuracy: 0.7331\n",
      "Epoch 00008: val_accuracy improved from 0.74180 to 0.74277, saving model to CSE5093_Assigment4_2020900016.hdf5\n",
      "4553/4553 [==============================] - 221s 49ms/step - loss: 0.7110 - accuracy: 0.7331 - val_loss: 0.6528 - val_accuracy: 0.7428\n",
      "Epoch 9/25\n",
      "4552/4553 [============================>.] - ETA: 0s - loss: 0.7091 - accuracy: 0.7319\n",
      "Epoch 00009: val_accuracy improved from 0.74277 to 0.74510, saving model to CSE5093_Assigment4_2020900016.hdf5\n",
      "4553/4553 [==============================] - 201s 44ms/step - loss: 0.7090 - accuracy: 0.7319 - val_loss: 0.6501 - val_accuracy: 0.7451\n",
      "Epoch 10/25\n",
      "4552/4553 [============================>.] - ETA: 0s - loss: 0.7070 - accuracy: 0.7330\n",
      "Epoch 00010: val_accuracy did not improve from 0.74510\n",
      "4553/4553 [==============================] - 213s 47ms/step - loss: 0.7070 - accuracy: 0.7330 - val_loss: 0.6481 - val_accuracy: 0.7426\n",
      "Epoch 11/25\n",
      "4552/4553 [============================>.] - ETA: 0s - loss: 0.7051 - accuracy: 0.7321\n",
      "Epoch 00011: val_accuracy did not improve from 0.74510\n",
      "4553/4553 [==============================] - 221s 49ms/step - loss: 0.7050 - accuracy: 0.7321 - val_loss: 0.6569 - val_accuracy: 0.7428\n",
      "Epoch 12/25\n",
      "4553/4553 [==============================] - ETA: 0s - loss: 0.7018 - accuracy: 0.7330\n",
      "Epoch 00012: val_accuracy did not improve from 0.74510\n",
      "4553/4553 [==============================] - 220s 48ms/step - loss: 0.7018 - accuracy: 0.7330 - val_loss: 0.6461 - val_accuracy: 0.7435\n",
      "Epoch 13/25\n",
      "4552/4553 [============================>.] - ETA: 0s - loss: 0.7015 - accuracy: 0.7324\n",
      "Epoch 00013: val_accuracy improved from 0.74510 to 0.74570, saving model to CSE5093_Assigment4_2020900016.hdf5\n",
      "4553/4553 [==============================] - 219s 48ms/step - loss: 0.7015 - accuracy: 0.7324 - val_loss: 0.6446 - val_accuracy: 0.7457\n",
      "Epoch 14/25\n",
      "4552/4553 [============================>.] - ETA: 0s - loss: 0.7007 - accuracy: 0.7334\n",
      "Epoch 00014: val_accuracy did not improve from 0.74570\n",
      "4553/4553 [==============================] - 218s 48ms/step - loss: 0.7007 - accuracy: 0.7334 - val_loss: 0.6374 - val_accuracy: 0.7453\n",
      "Epoch 15/25\n",
      "4553/4553 [==============================] - ETA: 0s - loss: 0.7007 - accuracy: 0.7336\n",
      "Epoch 00015: val_accuracy did not improve from 0.74570\n",
      "4553/4553 [==============================] - 217s 48ms/step - loss: 0.7007 - accuracy: 0.7336 - val_loss: 0.6427 - val_accuracy: 0.7453\n",
      "Epoch 16/25\n",
      "4552/4553 [============================>.] - ETA: 0s - loss: 0.7016 - accuracy: 0.7331\n",
      "Epoch 00016: val_accuracy improved from 0.74570 to 0.74668, saving model to CSE5093_Assigment4_2020900016.hdf5\n",
      "4553/4553 [==============================] - 218s 48ms/step - loss: 0.7016 - accuracy: 0.7331 - val_loss: 0.6407 - val_accuracy: 0.7467\n",
      "Epoch 17/25\n",
      "4553/4553 [==============================] - ETA: 0s - loss: 0.7011 - accuracy: 0.7336\n",
      "Epoch 00017: val_accuracy did not improve from 0.74668\n",
      "4553/4553 [==============================] - 220s 48ms/step - loss: 0.7011 - accuracy: 0.7336 - val_loss: 0.6392 - val_accuracy: 0.7466\n",
      "Epoch 18/25\n",
      "4552/4553 [============================>.] - ETA: 0s - loss: 0.6994 - accuracy: 0.7338\n",
      "Epoch 00018: val_accuracy did not improve from 0.74668\n",
      "4553/4553 [==============================] - 214s 47ms/step - loss: 0.6994 - accuracy: 0.7338 - val_loss: 0.6414 - val_accuracy: 0.7466\n",
      "Epoch 19/25\n",
      "4552/4553 [============================>.] - ETA: 0s - loss: 0.7003 - accuracy: 0.7339\n",
      "Epoch 00019: val_accuracy did not improve from 0.74668\n",
      "4553/4553 [==============================] - 214s 47ms/step - loss: 0.7003 - accuracy: 0.7339 - val_loss: 0.6414 - val_accuracy: 0.7452\n",
      "Epoch 20/25\n",
      "4553/4553 [==============================] - ETA: 0s - loss: 0.7011 - accuracy: 0.7340\n",
      "Epoch 00020: val_accuracy did not improve from 0.74668\n",
      "4553/4553 [==============================] - 215s 47ms/step - loss: 0.7011 - accuracy: 0.7340 - val_loss: 0.6414 - val_accuracy: 0.7463\n",
      "Epoch 21/25\n",
      "4553/4553 [==============================] - ETA: 0s - loss: 0.7018 - accuracy: 0.7341\n",
      "Epoch 00021: val_accuracy did not improve from 0.74668\n",
      "4553/4553 [==============================] - 218s 48ms/step - loss: 0.7018 - accuracy: 0.7341 - val_loss: 0.6380 - val_accuracy: 0.7457\n",
      "Epoch 22/25\n",
      "4553/4553 [==============================] - ETA: 0s - loss: 0.6997 - accuracy: 0.7357\n",
      "Epoch 00022: val_accuracy improved from 0.74668 to 0.74736, saving model to CSE5093_Assigment4_2020900016.hdf5\n",
      "4553/4553 [==============================] - 217s 48ms/step - loss: 0.6997 - accuracy: 0.7357 - val_loss: 0.6374 - val_accuracy: 0.7474\n",
      "Epoch 23/25\n",
      "4552/4553 [============================>.] - ETA: 0s - loss: 0.6992 - accuracy: 0.7348\n",
      "Epoch 00023: val_accuracy did not improve from 0.74736\n",
      "4553/4553 [==============================] - 225s 49ms/step - loss: 0.6992 - accuracy: 0.7348 - val_loss: 0.6417 - val_accuracy: 0.7442\n",
      "Epoch 24/25\n",
      "4553/4553 [==============================] - ETA: 0s - loss: 0.6981 - accuracy: 0.7358\n",
      "Epoch 00024: val_accuracy did not improve from 0.74736\n",
      "4553/4553 [==============================] - 224s 49ms/step - loss: 0.6981 - accuracy: 0.7358 - val_loss: 0.6395 - val_accuracy: 0.7446\n",
      "Epoch 25/25\n",
      "4552/4553 [============================>.] - ETA: 0s - loss: 0.7003 - accuracy: 0.7349\n",
      "Epoch 00025: val_accuracy did not improve from 0.74736\n",
      "4553/4553 [==============================] - 228s 50ms/step - loss: 0.7004 - accuracy: 0.7348 - val_loss: 0.6425 - val_accuracy: 0.7446\n"
     ]
    }
   ],
   "source": [
    "model = Sequential()\n",
    "model.add(layers.Embedding(max_words, 20))\n",
    "model.add(layers.LSTM(15,dropout=0.5))\n",
    "model.add(layers.Dense(6,activation='softmax'))\n",
    "\n",
    "model.compile(optimizer='rmsprop',loss='categorical_crossentropy', metrics=['accuracy'])\n",
    "\n",
    "#Do not use the 'save_freq', it's shows the warnings. The program works same but it needs more detail in the code.\n",
    "checkpoint1 = ModelCheckpoint(\"CSE5093_Assigment4_2020900016.hdf5\", monitor='val_accuracy', verbose=1,save_best_only=True, mode='auto', period=1,save_weights_only=False)\n",
    "history = model.fit(X_train, y_train, epochs=25,validation_data=(X_test, y_test),callbacks=[checkpoint1])"
   ]
  },
  {
   "cell_type": "code",
   "execution_count": 26,
   "metadata": {},
   "outputs": [
    {
     "name": "stdout",
     "output_type": "stream",
     "text": [
      "1518/1518 - 15s - loss: 0.6425 - accuracy: 0.7446\n",
      "Accuracy: 74.460459\n"
     ]
    }
   ],
   "source": [
    "#history = keras.models.load_model(\"CSE5093_Assigment4_2020900016.hdf5\")\n",
    "test_loss, test_acc = model.evaluate(X_test, y_test, verbose=2)\n",
    "print('Accuracy: %f' % (test_acc*100))"
   ]
  },
  {
   "cell_type": "code",
   "execution_count": 27,
   "metadata": {},
   "outputs": [
    {
     "data": {
      "image/png": "[encoded data removed]",
      "text/plain": [
       "<Figure size 432x288 with 1 Axes>"
      ]
     },
     "metadata": {
      "needs_background": "light"
     },
     "output_type": "display_data"
    },
    {
     "data": {
      "image/png": "[encoded data removed]",
      "text/plain": [
       "<Figure size 432x288 with 1 Axes>"
      ]
     },
     "metadata": {
      "needs_background": "light"
     },
     "output_type": "display_data"
    }
   ],
   "source": [
    "def plot_graphs(history, string):\n",
    "  plt.plot(history.history[string])\n",
    "  plt.plot(history.history['val_'+string])\n",
    "  plt.xlabel(\"Epochs\")\n",
    "  plt.ylabel(string)\n",
    "  plt.legend([string, 'val_'+string])\n",
    "  plt.show()\n",
    "  \n",
    "plot_graphs(history, \"accuracy\")\n",
    "plot_graphs(history, \"loss\")"
   ]
  },
  {
   "cell_type": "code",
   "execution_count": 33,
   "metadata": {},
   "outputs": [
    {
     "data": {
      "text/plain": [
       "'korku'"
      ]
     },
     "execution_count": 33,
     "metadata": {},
     "output_type": "execute_result"
    }
   ],
   "source": [
    "text = ['çok korkuyorum, dersten kalabilirim']\n",
    "emotions = ['korku', 'öfke', 'üzüntü', 'tiksinme', 'mutluluk', 'şaşırma']\n",
    "sequence = tokenizer.texts_to_sequences(text)\n",
    "test = pad_sequences(sequence, maxlen=max_len)\n",
    "pred = model.predict(test)\n",
    "emotions[np.argmax(pred)-1]"
   ]
  }
 ],
 "metadata": {
  "kernelspec": {
   "display_name": "Python 3",
   "language": "python",
   "name": "python3"
  },
  "language_info": {
   "codemirror_mode": {
    "name": "ipython",
    "version": 3
   },
   "file_extension": ".py",
   "mimetype": "text/x-python",
   "name": "python",
   "nbconvert_exporter": "python",
   "pygments_lexer": "ipython3",
   "version": "3.8.5"
  },
  "papermill": {
   "duration": 2724.650172,
   "end_time": "2020-10-06T22:04:52.151005",
   "environment_variables": {},
   "exception": null,
   "input_path": "__notebook__.ipynb",
   "output_path": "__notebook__.ipynb",
   "parameters": {},
   "start_time": "2020-10-06T21:19:27.500833",
   "version": "2.1.0"
  }
 },
 "nbformat": 4,
 "nbformat_minor": 4
}
